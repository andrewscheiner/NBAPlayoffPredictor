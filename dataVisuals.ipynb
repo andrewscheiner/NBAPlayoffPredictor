{
 "cells": [
  {
   "cell_type": "code",
   "execution_count": null,
   "metadata": {},
   "outputs": [],
   "source": [
    "import pandas as pd\n",
    "import seaborn as sns\n",
    "import matplotlib.pyplot as plt"
   ]
  },
  {
   "cell_type": "code",
   "execution_count": null,
   "metadata": {},
   "outputs": [],
   "source": [
    "# Load the full stats dataset\n",
    "full_data = pd.read_csv(\"nba_merged_data.csv\")  # Update with your actual filename"
   ]
  },
  {
   "cell_type": "code",
   "execution_count": null,
   "metadata": {},
   "outputs": [],
   "source": [
    "unique_season_team = full_data[full_data['PLAYOFF_WINS'] == 16][['SEASON_YEAR', 'TEAM_NAME']].drop_duplicates()\n",
    "print(unique_season_team)"
   ]
  },
  {
   "cell_type": "code",
   "execution_count": null,
   "metadata": {},
   "outputs": [],
   "source": [
    "print(full_data.columns)"
   ]
  },
  {
   "cell_type": "code",
   "execution_count": null,
   "metadata": {},
   "outputs": [],
   "source": [
    "# Update the 'Type' column for playoff teams based on PLAYOFF_WINS\n",
    "def categorize_playoff_type(wins):\n",
    "    if wins == 0:\n",
    "        return \"Non-Playoff\"\n",
    "    elif 1 <= wins <= 3:\n",
    "        return \"First-Round\"\n",
    "    elif 4 <= wins <= 7:\n",
    "        return \"Second-Round\"\n",
    "    elif 8 <= wins <= 11:\n",
    "        return \"Conference-Finals\"\n",
    "    elif 12 <= wins <= 15:\n",
    "        return \"Finals\"\n",
    "    elif wins == 16:\n",
    "        return \"Champions\"\n",
    "    return \"Playoff\"\n",
    "\n",
    "playoffs = full_data.copy()\n",
    "\n",
    "# Add a column to indicate team type\n",
    "playoffs['Type'] = playoffs['PLAYOFF_WINS'].apply(categorize_playoff_type)\n",
    "\n",
    "playoffs = playoffs.loc[:, ~playoffs.columns.str.endswith('RANK')]\n",
    "\n",
    "playoffs"
   ]
  },
  {
   "cell_type": "code",
   "execution_count": null,
   "metadata": {},
   "outputs": [],
   "source": [
    "colors = {\n",
    "    'Non-Playoff': 'lightcoral',\n",
    "    'First-Round': 'coral',\n",
    "    'Second-Round': 'darkorange',\n",
    "    'Conference-Finals': 'orange',\n",
    "    'Finals': 'orangered',\n",
    "    'Champions': 'red'\n",
    "}\n",
    "\n",
    "# Define the order for the 'Type' column\n",
    "type_order = ['Non-Playoff', 'First-Round', 'Second-Round', 'Conference-Finals', 'Finals', 'Champions']\n",
    "\n",
    "numeric_columns = playoffs.select_dtypes(include=['float64', 'int64']).columns"
   ]
  },
  {
   "cell_type": "code",
   "execution_count": null,
   "metadata": {},
   "outputs": [],
   "source": [
    "# Create box plots for each numeric column\n",
    "for column in numeric_columns:\n",
    "    plt.figure(figsize=(10, 6))\n",
    "    sns.boxplot(data=playoffs, x='Type', y=f'{column}', palette=colors, order=type_order)\n",
    "    plt.title(f'Box Plot of {column}', fontsize=16)\n",
    "    plt.ylabel(column, fontsize=12)\n",
    "    plt.show()"
   ]
  },
  {
   "cell_type": "code",
   "execution_count": null,
   "metadata": {},
   "outputs": [],
   "source": [
    "# Calculate the average of numeric columns for each 'Type'\n",
    "averages = playoffs.groupby('Type')[numeric_columns].mean()\n",
    "\n",
    "# Reindex the averages to match the order in type_order\n",
    "averages = averages.reindex(type_order)\n",
    "\n",
    "# Create bar plots for all numeric columns grouped by 'Type'\n",
    "for column in numeric_columns:\n",
    "    plt.figure(figsize=(10, 6))\n",
    "    averages[column].plot(kind='bar', color=[colors.get(t, 'gray') for t in type_order])\n",
    "    plt.title(f'Average {column} by Type', fontsize=16)\n",
    "    plt.xlabel('Type', fontsize=12)\n",
    "    plt.ylabel(f'Average {column}', fontsize=12)\n",
    "    plt.xticks(ticks=range(len(type_order)), labels=type_order, rotation=45)\n",
    "    plt.show()\n",
    "\n",
    "\n"
   ]
  },
  {
   "cell_type": "code",
   "execution_count": null,
   "metadata": {},
   "outputs": [],
   "source": []
  }
 ],
 "metadata": {
  "kernelspec": {
   "display_name": "Python 3",
   "language": "python",
   "name": "python3"
  },
  "language_info": {
   "codemirror_mode": {
    "name": "ipython",
    "version": 3
   },
   "file_extension": ".py",
   "mimetype": "text/x-python",
   "name": "python",
   "nbconvert_exporter": "python",
   "pygments_lexer": "ipython3",
   "version": "3.12.1"
  }
 },
 "nbformat": 4,
 "nbformat_minor": 2
}
