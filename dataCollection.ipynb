{
 "cells": [
  {
   "cell_type": "markdown",
   "metadata": {},
   "source": [
    "#### Imports"
   ]
  },
  {
   "cell_type": "code",
   "execution_count": 1,
   "metadata": {},
   "outputs": [],
   "source": [
    "import pandas as pd\n",
    "import requests\n",
    "import json"
   ]
  },
  {
   "cell_type": "markdown",
   "metadata": {},
   "source": [
    "#### Function to get box score data"
   ]
  },
  {
   "cell_type": "code",
   "execution_count": 2,
   "metadata": {},
   "outputs": [],
   "source": [
    "def getStdBoxScores(season, team):\n",
    "    url = \"https://stats.nba.com/stats/teamgamelogs\"\n",
    "    headers = {\n",
    "        \"Accept\": \"*/*\",\n",
    "        \"Accept-Encoding\": \"gzip, deflate, br\",\n",
    "        \"Accept-Language\": \"en-US,en;q=0.9\",\n",
    "        \"Connection\": \"keep-alive\",\n",
    "        \"Origin\": \"https://www.nba.com\",\n",
    "        \"Referer\": \"https://www.nba.com/\",\n",
    "        \"Sec-Fetch-Dest\": \"empty\",\n",
    "        \"Sec-Fetch-Mode\": \"cors\",\n",
    "        \"Sec-Fetch-Site\": \"same-site\",\n",
    "        \"User-Agent\": \"Mozilla/5.0 (Macintosh; Intel Mac OS X 10_15_7) AppleWebKit/605.1.15 (KHTML, like Gecko) Version/18.3.1 Safari/605.1.15\"\n",
    "    }\n",
    "\n",
    "    params = {\n",
    "        \"DateFrom\": \"\",\n",
    "        \"DateTo\": \"\",\n",
    "        \"Season\": season,\n",
    "        \"SeasonType\": \"Regular Season\",\n",
    "        \"TeamID\": team\n",
    "    }\n",
    "\n",
    "    response = requests.get(url, headers=headers, params=params)\n",
    "\n",
    "    if response.status_code == 200:\n",
    "        data = response.json()\n",
    "        return pd.DataFrame(data['resultSets'][0]['rowSet'], columns=data['resultSets'][0]['headers'])\n",
    "    else:\n",
    "        print(f\"Request failed with status code {response.status_code}\")\n",
    "\n"
   ]
  },
  {
   "cell_type": "code",
   "execution_count": 3,
   "metadata": {},
   "outputs": [],
   "source": [
    "def getAdvBoxScores(season, team):  \n",
    "    url = \"https://stats.nba.com/stats/teamgamelogs\"\n",
    "    headers = {\n",
    "        \"Accept\": \"*/*\",\n",
    "        \"Accept-Encoding\": \"gzip, deflate, br\",\n",
    "        \"Accept-Language\": \"en-US,en;q=0.9\",\n",
    "        \"Connection\": \"keep-alive\",\n",
    "        \"Origin\": \"https://www.nba.com\",\n",
    "        \"Referer\": \"https://www.nba.com/\",\n",
    "        \"Sec-Fetch-Dest\": \"empty\",\n",
    "        \"Sec-Fetch-Mode\": \"cors\",\n",
    "        \"Sec-Fetch-Site\": \"same-site\",\n",
    "        \"User-Agent\": \"Mozilla/5.0 (Macintosh; Intel Mac OS X 10_15_7) AppleWebKit/605.1.15 (KHTML, like Gecko) Version/18.3.1 Safari/605.1.15\"\n",
    "    }\n",
    "\n",
    "    params = {\n",
    "        \"DateFrom\": \"\",\n",
    "        \"DateTo\": \"\",\n",
    "        \"GameSegment\": \"\",\n",
    "        \"ISTRound\": \"\",\n",
    "        \"LastNGames\": \"0\",\n",
    "        \"LeagueID\": \"00\",\n",
    "        \"Location\": \"\",\n",
    "        \"MeasureType\": \"Advanced\",\n",
    "        \"Month\": \"0\",\n",
    "        \"OpponentTeamID\": \"0\",\n",
    "        \"Outcome\": \"\",\n",
    "        \"PORound\": \"0\",\n",
    "        \"PaceAdjust\": \"N\",\n",
    "        \"PerMode\": \"Totals\",\n",
    "        \"Period\": \"0\",\n",
    "        \"PlusMinus\": \"N\",\n",
    "        \"Rank\": \"N\",\n",
    "        \"Season\": season,\n",
    "        \"SeasonSegment\": \"\",\n",
    "        \"SeasonType\": \"Regular Season\",\n",
    "        \"ShotClockRange\": \"\",\n",
    "        \"TeamID\": team,\n",
    "        \"VsConference\": \"\",\n",
    "        \"VsDivision\": \"\"\n",
    "    }\n",
    "\n",
    "    response = requests.get(url, headers=headers, params=params)\n",
    "\n",
    "    if response.status_code == 200:\n",
    "        data = response.json()\n",
    "        return pd.DataFrame(data['resultSets'][0]['rowSet'], columns=data['resultSets'][0]['headers'])\n",
    "    else:\n",
    "        print(f\"Request failed with status code {response.status_code}\")\n"
   ]
  },
  {
   "cell_type": "markdown",
   "metadata": {},
   "source": [
    "#### Function to return merged boxscore data"
   ]
  },
  {
   "cell_type": "code",
   "execution_count": 4,
   "metadata": {},
   "outputs": [],
   "source": [
    "def mergeBoxScoreData(data_std, data_adv):\n",
    "    return pd.merge(data_std, data_adv.drop(['SEASON_YEAR', 'TEAM_ID', 'TEAM_ABBREVIATION', 'TEAM_NAME', 'GAME_DATE', \\\n",
    "    'MATCHUP', 'WL', 'MIN', 'GP_RANK', 'W_RANK', 'L_RANK', 'W_PCT_RANK', 'MIN_RANK', \\\n",
    "    'AVAILABLE_FLAG'],axis=1), on='GAME_ID')"
   ]
  },
  {
   "cell_type": "markdown",
   "metadata": {},
   "source": [
    "#### Run box score collection for all 30 teams for the past 10 seasons"
   ]
  },
  {
   "cell_type": "code",
   "execution_count": 10,
   "metadata": {},
   "outputs": [],
   "source": [
    "team_ids = [\n",
    "    \"1610612737\", \"1610612738\", \"1610612751\", \"1610612766\", \"1610612741\",\n",
    "    \"1610612739\", \"1610612742\", \"1610612743\", \"1610612765\", \"1610612744\",\n",
    "    \"1610612745\", \"1610612754\", \"1610612746\", \"1610612747\", \"1610612763\",\n",
    "    \"1610612748\", \"1610612749\", \"1610612750\", \"1610612740\", \"1610612752\",\n",
    "    \"1610612760\", \"1610612753\", \"1610612755\", \"1610612756\", \"1610612757\",\n",
    "    \"1610612758\", \"1610612759\", \"1610612761\", \"1610612762\", \"1610612764\"\n",
    "]\n",
    "\n",
    "nba_teams = {\n",
    "    \"1610612737\": \"Atlanta Hawks\",\n",
    "    \"1610612738\": \"Boston Celtics\",\n",
    "    \"1610612751\": \"Brooklyn Nets\",\n",
    "    \"1610612766\": \"Charlotte Hornets\",\n",
    "    \"1610612741\": \"Chicago Bulls\",\n",
    "    \"1610612739\": \"Cleveland Cavaliers\",\n",
    "    \"1610612742\": \"Dallas Mavericks\",\n",
    "    \"1610612743\": \"Denver Nuggets\",\n",
    "    \"1610612765\": \"Detroit Pistons\",\n",
    "    \"1610612744\": \"Golden State Warriors\",\n",
    "    \"1610612745\": \"Houston Rockets\",\n",
    "    \"1610612754\": \"Indiana Pacers\",\n",
    "    \"1610612746\": \"LA Clippers\",\n",
    "    \"1610612747\": \"Los Angeles Lakers\",\n",
    "    \"1610612763\": \"Memphis Grizzlies\",\n",
    "    \"1610612748\": \"Miami Heat\",\n",
    "    \"1610612749\": \"Milwaukee Bucks\",\n",
    "    \"1610612750\": \"Minnesota Timberwolves\",\n",
    "    \"1610612740\": \"New Orleans Pelicans\",\n",
    "    \"1610612752\": \"New York Knicks\",\n",
    "    \"1610612760\": \"Oklahoma City Thunder\",\n",
    "    \"1610612753\": \"Orlando Magic\",\n",
    "    \"1610612755\": \"Philadelphia 76ers\",\n",
    "    \"1610612756\": \"Phoenix Suns\",\n",
    "    \"1610612757\": \"Portland Trail Blazers\",\n",
    "    \"1610612758\": \"Sacramento Kings\",\n",
    "    \"1610612759\": \"San Antonio Spurs\",\n",
    "    \"1610612761\": \"Toronto Raptors\",\n",
    "    \"1610612762\": \"Utah Jazz\",\n",
    "    \"1610612764\": \"Washington Wizards\"\n",
    "}\n",
    "\n",
    "seasons = ['2023-24', '2022-23', '2021-22', '2020-21', '2019-20', \\\n",
    "    '2018-19', '2017-18', '2016-17', '2015-16', '2014-15']"
   ]
  },
  {
   "cell_type": "code",
   "execution_count": 11,
   "metadata": {},
   "outputs": [
    {
     "name": "stdout",
     "output_type": "stream",
     "text": [
      "2024-25, Atlanta Hawks\n",
      "2024-25, Boston Celtics\n",
      "2023-24, Atlanta Hawks\n",
      "2023-24, Boston Celtics\n"
     ]
    }
   ],
   "source": [
    "team_ids = [\n",
    "    \"1610612737\", \"1610612738\"\n",
    "]\n",
    "seasons = ['2024-25', '2023-24']\n",
    "\n",
    "fullData = pd.DataFrame()\n",
    "for s in range(len(seasons)):\n",
    "    for t in range(len(team_ids)):\n",
    "        #first iteration\n",
    "        if (t==0) and (s==0):\n",
    "            std = getStdBoxScores(seasons[s], team_ids[t])\n",
    "            adv = getAdvBoxScores(seasons[s], team_ids[t])\n",
    "            fullData = mergeBoxScoreData(std, adv)\n",
    "            print(f\"{seasons[s]}, {nba_teams.get(team_ids[t])}\")\n",
    "        else:\n",
    "            std = getStdBoxScores(seasons[s], team_ids[t])\n",
    "            adv = getAdvBoxScores(seasons[s], team_ids[t])\n",
    "            data = mergeBoxScoreData(std, adv)\n",
    "            fullData = pd.concat([fullData, data])\n",
    "            print(f\"{seasons[s]}, {nba_teams.get(team_ids[t])}\")\n",
    "\n",
    "fullData.to_csv('nba_team_boxscores.csv', index=False)"
   ]
  },
  {
   "cell_type": "code",
   "execution_count": null,
   "metadata": {},
   "outputs": [],
   "source": []
  }
 ],
 "metadata": {
  "kernelspec": {
   "display_name": "Python 3",
   "language": "python",
   "name": "python3"
  },
  "language_info": {
   "codemirror_mode": {
    "name": "ipython",
    "version": 3
   },
   "file_extension": ".py",
   "mimetype": "text/x-python",
   "name": "python",
   "nbconvert_exporter": "python",
   "pygments_lexer": "ipython3",
   "version": "3.10.14"
  }
 },
 "nbformat": 4,
 "nbformat_minor": 2
}
